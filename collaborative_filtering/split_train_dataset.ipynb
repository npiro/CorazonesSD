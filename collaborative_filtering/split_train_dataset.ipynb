{
 "cells": [
  {
   "cell_type": "markdown",
   "metadata": {},
   "source": [
    "## split train dataset\n",
    "as test_ver2.csv dataset did not have product columns a new train-test\n",
    "dataset pair (train_ver2_month1-16.csv,train_ver2_month17.csv) was created"
   ]
  },
  {
   "cell_type": "code",
   "execution_count": 2,
   "metadata": {
    "collapsed": true
   },
   "outputs": [],
   "source": [
    "import collaborative_filtering_tools as cf"
   ]
  },
  {
   "cell_type": "code",
   "execution_count": 3,
   "metadata": {
    "collapsed": false
   },
   "outputs": [
    {
     "name": "stdout",
     "output_type": "stream",
     "text": [
      "chunk 0 from 1364.731. (0.00139193333333 minutes)\n",
      "chunk 136 from 1364.731. (0.1281964 minutes)\n",
      "chunk 272 from 1364.731. (0.260486683333 minutes)\n",
      "chunk 408 from 1364.731. (0.4025533 minutes)\n",
      "chunk 544 from 1364.731. (0.523666416667 minutes)\n",
      "chunk 680 from 1364.731. (0.670430433333 minutes)\n",
      "chunk 816 from 1364.731. (0.822109233333 minutes)\n",
      "chunk 952 from 1364.731. (0.9693437 minutes)\n",
      "chunk 1088 from 1364.731. (1.14307333333 minutes)\n",
      "chunk 1224 from 1364.731. (1.2954512 minutes)\n",
      "chunk 1360 from 1364.731. (1.46336763333 minutes)\n",
      "[u'2015-01-28' u'2015-02-28' u'2015-03-28' u'2015-04-28' u'2015-05-28'\n",
      " u'2015-06-28' u'2015-07-28' u'2015-08-28' u'2015-09-28' u'2015-10-28'\n",
      " u'2015-11-28' u'2015-12-28' u'2016-01-28' u'2016-02-28' u'2016-03-28'\n",
      " u'2016-04-28' u'2016-05-28']\n"
     ]
    }
   ],
   "source": [
    "unique_dates = cf.get_unique_dates('train_ver2')\n",
    "print unique_dates"
   ]
  },
  {
   "cell_type": "code",
   "execution_count": null,
   "metadata": {
    "collapsed": false
   },
   "outputs": [
    {
     "name": "stdout",
     "output_type": "stream",
     "text": [
      "chunk 0 from 1364.731. (0.000910566666667 minutes)\n",
      "chunk 136 from 1364.731. (0.186897216667 minutes)\n",
      "chunk 272 from 1364.731. (0.386870883333 minutes)\n",
      "chunk 408 from 1364.731. (0.576273833333 minutes)\n",
      "chunk 544 from 1364.731. (0.766026066667 minutes)\n",
      "chunk 680 from 1364.731. (0.9481377 minutes)\n",
      "chunk 816 from 1364.731. (1.13614226667 minutes)\n"
     ]
    }
   ],
   "source": [
    "month17_first_line = cf.find_first_date_appeareance_line('train_ver2','2016-05-28')\n",
    "print month17_first_line"
   ]
  },
  {
   "cell_type": "code",
   "execution_count": 1,
   "metadata": {
    "collapsed": false
   },
   "outputs": [
    {
     "name": "stdout",
     "output_type": "stream",
     "text": [
      "chunk 0 from 1364.731. (0.00104641666667 minutes)\n",
      "chunk 136 from 1364.731. (0.24563975 minutes)\n",
      "chunk 272 from 1364.731. (0.498751816667 minutes)\n",
      "chunk 408 from 1364.731. (0.73218935 minutes)\n",
      "chunk 544 from 1364.731. (0.987569566667 minutes)\n",
      "chunk 680 from 1364.731. (1.26572131667 minutes)\n",
      "chunk 816 from 1364.731. (1.56484411667 minutes)\n",
      "chunk 952 from 1364.731. (1.86090543333 minutes)\n",
      "chunk 1088 from 1364.731. (2.21994385 minutes)\n",
      "chunk 1224 from 1364.731. (2.52582263333 minutes)\n"
     ]
    }
   ],
   "source": [
    "data  = cf.get_data_dict('train_ver2')\n",
    "last_month_lines = data['n_lines']-month17_first_line\n",
    "!head -n $month17_first_line '../train_ver2.csv' >  '../train_ver2_month1-16.csv'\n",
    "!head -n 1                   '../train_ver2.csv' >  '../train_ver2_month17.csv'\n",
    "!tail -n $last_month_lines   '../train_ver2.csv' >> '../train_ver2_month17.csv'"
   ]
  },
  {
   "cell_type": "code",
   "execution_count": null,
   "metadata": {
    "collapsed": true
   },
   "outputs": [],
   "source": [
    "print cf.get_unique_dates('train_ver2_month1-16')\n",
    "print cf.get_unique_dates('train_ver2_month17')"
   ]
  }
 ],
 "metadata": {
  "kernelspec": {
   "display_name": "Python 2",
   "language": "python",
   "name": "python2"
  },
  "language_info": {
   "codemirror_mode": {
    "name": "ipython",
    "version": 2
   },
   "file_extension": ".py",
   "mimetype": "text/x-python",
   "name": "python",
   "nbconvert_exporter": "python",
   "pygments_lexer": "ipython2",
   "version": "2.7.12"
  }
 },
 "nbformat": 4,
 "nbformat_minor": 0
}
